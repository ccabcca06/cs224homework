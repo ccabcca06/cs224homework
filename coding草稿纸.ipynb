{
 "cells": [
  {
   "cell_type": "code",
   "execution_count": 1,
   "metadata": {},
   "outputs": [],
   "source": [
    "from torch.nn import Conv2d"
   ]
  },
  {
   "cell_type": "code",
   "execution_count": null,
   "metadata": {},
   "outputs": [],
   "source": []
  },
  {
   "cell_type": "code",
   "execution_count": 2,
   "metadata": {},
   "outputs": [
    {
     "name": "stdout",
     "output_type": "stream",
     "text": [
      "Object `xrange` not found.\n"
     ]
    }
   ],
   "source": [
    "?xrange()"
   ]
  },
  {
   "cell_type": "code",
   "execution_count": 1,
   "metadata": {},
   "outputs": [],
   "source": [
    "import numpy as np"
   ]
  },
  {
   "cell_type": "code",
   "execution_count": 11,
   "metadata": {},
   "outputs": [
    {
     "data": {
      "text/plain": [
       "array([[1001, 1002],\n",
       "       [   3,    4]])"
      ]
     },
     "execution_count": 11,
     "metadata": {},
     "output_type": "execute_result"
    }
   ],
   "source": [
    "tarr = np.array([[1001,1002],[3,4]])\n",
    "tarr"
   ]
  },
  {
   "cell_type": "code",
   "execution_count": 3,
   "metadata": {},
   "outputs": [
    {
     "data": {
      "text/plain": [
       "array([[        inf,         inf],\n",
       "       [20.08553692, 54.59815003]])"
      ]
     },
     "execution_count": 3,
     "metadata": {},
     "output_type": "execute_result"
    }
   ],
   "source": [
    "a = np.exp(tarr)\n",
    "a"
   ]
  },
  {
   "cell_type": "code",
   "execution_count": 13,
   "metadata": {},
   "outputs": [
    {
     "data": {
      "text/plain": [
       "array([1002,    4])"
      ]
     },
     "execution_count": 13,
     "metadata": {},
     "output_type": "execute_result"
    }
   ],
   "source": [
    "b = np.max(tarr,axis=1)\n",
    "b"
   ]
  },
  {
   "cell_type": "code",
   "execution_count": 22,
   "metadata": {},
   "outputs": [
    {
     "data": {
      "text/plain": [
       "array([[-1,  0],\n",
       "       [-1,  0]])"
      ]
     },
     "execution_count": 22,
     "metadata": {},
     "output_type": "execute_result"
    }
   ],
   "source": [
    "norm_tarr = np.transpose(np.subtract(np.transpose(tarr),b))\n",
    "norm_tarr"
   ]
  },
  {
   "cell_type": "code",
   "execution_count": 23,
   "metadata": {},
   "outputs": [
    {
     "data": {
      "text/plain": [
       "array([[0.36787944, 1.        ],\n",
       "       [0.36787944, 1.        ]])"
      ]
     },
     "execution_count": 23,
     "metadata": {},
     "output_type": "execute_result"
    }
   ],
   "source": [
    "c = np.exp(norm_tarr)\n",
    "c"
   ]
  },
  {
   "cell_type": "code",
   "execution_count": 25,
   "metadata": {},
   "outputs": [
    {
     "data": {
      "text/plain": [
       "array([[0.26894142, 0.73105858],\n",
       "       [0.26894142, 0.73105858]])"
      ]
     },
     "execution_count": 25,
     "metadata": {},
     "output_type": "execute_result"
    }
   ],
   "source": [
    "c/np.sum(c, axis=1)"
   ]
  },
  {
   "cell_type": "code",
   "execution_count": 6,
   "metadata": {},
   "outputs": [
    {
     "name": "stdout",
     "output_type": "stream",
     "text": [
      "data:\n",
      "[[ 1.97732065  2.45128849 -1.42588318 -0.91960725  1.06324018  0.85788457\n",
      "   0.10001571 -0.39735998 -0.22493615  0.4405186 ]\n",
      " [-0.47476099 -0.0605179   1.07261479  0.33009152 -1.81151736 -1.49495499\n",
      "  -0.03869143  1.05028854 -1.80937501 -2.42183164]\n",
      " [ 0.2504126  -0.4808754  -1.42247497  0.86627348  0.46013826  1.6428274\n",
      "   1.52483961 -0.07309406 -0.50841876  0.14208075]\n",
      " [ 0.91462658 -0.18856526 -0.74291082  0.4126448  -2.38424515 -0.13045274\n",
      "  -1.67470919 -0.4797349   1.2674691  -0.29375387]\n",
      " [ 0.89017524  0.34165861 -0.91059588  0.68492391  0.03700612 -0.0138411\n",
      "  -0.8197134  -0.38627667 -0.23196893  1.54868783]\n",
      " [-0.69257082 -0.01006812 -1.15049919 -0.41129921  1.47735502 -0.6019625\n",
      "  -0.55149261  0.52134916 -0.65283033 -0.17571575]\n",
      " [-1.30844258  0.68348074 -1.61304669 -0.46161365  0.41828873  1.30925685\n",
      "  -1.6433895   0.37083051 -0.06579537 -0.38806595]\n",
      " [-0.06118826  0.10276262  1.19686411 -0.11383792  0.9698485   0.69559773\n",
      "   0.82394317  1.58034347 -0.2771151   1.53871568]\n",
      " [-0.56188529  0.77535541 -0.08088366 -0.16320639  0.83718146 -1.39866808\n",
      "  -1.70038422 -0.03276646  0.50985031  0.91708974]\n",
      " [ 0.88322026  1.26254549  1.17768493  0.2672653   0.1116771  -1.47589221\n",
      "  -0.8617411   1.95275595 -0.21563659 -2.58750768]\n",
      " [-1.94450904 -0.08977385 -1.58315529 -0.96208458  0.10482419 -0.35422317\n",
      "   0.18874442  0.56898265 -0.59672286 -0.50730469]\n",
      " [-2.4405526   0.65574654 -2.21275647 -2.38840717 -0.96184422  1.78652808\n",
      "  -0.11310319 -0.08265899  0.78178964 -0.99066055]\n",
      " [ 0.30957322  1.19316992 -0.74318667 -0.06966663 -0.67558785 -1.05231443\n",
      "  -0.89318176  1.13708589  1.13341654 -0.54651508]\n",
      " [ 0.08140424 -0.15651032  0.53190945 -0.53885906 -1.48354434  0.83844836\n",
      "  -0.3139016  -0.1412987   0.13594447  1.34348233]\n",
      " [-0.63484431 -0.73590697  0.05274292 -1.24931387 -0.52009934  1.08957938\n",
      "  -0.49001212 -0.63491521 -0.34531487 -1.8112168 ]\n",
      " [ 1.04651355  0.82529947  0.07268233  0.46436418  0.3706726   0.93095638\n",
      "  -1.31665768  0.70433728 -1.3600064  -1.43666599]\n",
      " [-0.18566069 -0.18628986  0.37944334  1.25034525  0.63275062 -0.43612844\n",
      "  -0.4212423  -0.08899358 -0.85409918  0.99298881]\n",
      " [-0.19189552 -0.37543143 -0.04543229 -0.78101822  0.95054761  1.30196245\n",
      "   1.68189634  1.34515783  0.19139648 -2.66843351]\n",
      " [-1.06366389 -0.22790681 -0.82854926 -0.55759246  0.86105696  0.56373011\n",
      "   0.91719163 -0.71669529  0.76785767 -2.27279031]\n",
      " [ 1.60353046 -0.67016457  2.03642409  0.23385134  1.63017111  0.40313939\n",
      "  -0.1498177  -1.01594792 -0.18180447 -1.52247086]]\n",
      "------\n",
      "label:\n",
      "[[0. 0. 0. 0. 1. 0. 0. 0. 0. 0.]\n",
      " [1. 0. 0. 0. 0. 0. 0. 0. 0. 0.]\n",
      " [0. 0. 0. 0. 0. 0. 0. 0. 1. 0.]\n",
      " [0. 0. 0. 1. 0. 0. 0. 0. 0. 0.]\n",
      " [0. 0. 0. 0. 0. 1. 0. 0. 0. 0.]\n",
      " [0. 0. 0. 1. 0. 0. 0. 0. 0. 0.]\n",
      " [0. 0. 0. 0. 0. 0. 0. 0. 1. 0.]\n",
      " [0. 1. 0. 0. 0. 0. 0. 0. 0. 0.]\n",
      " [0. 0. 0. 0. 0. 0. 0. 1. 0. 0.]\n",
      " [0. 0. 0. 0. 1. 0. 0. 0. 0. 0.]\n",
      " [0. 0. 0. 0. 0. 0. 0. 1. 0. 0.]\n",
      " [0. 0. 1. 0. 0. 0. 0. 0. 0. 0.]\n",
      " [1. 0. 0. 0. 0. 0. 0. 0. 0. 0.]\n",
      " [0. 0. 0. 0. 0. 0. 0. 1. 0. 0.]\n",
      " [0. 0. 0. 0. 1. 0. 0. 0. 0. 0.]\n",
      " [0. 0. 0. 0. 0. 0. 0. 0. 1. 0.]\n",
      " [0. 0. 0. 0. 0. 0. 1. 0. 0. 0.]\n",
      " [1. 0. 0. 0. 0. 0. 0. 0. 0. 0.]\n",
      " [0. 0. 0. 0. 1. 0. 0. 0. 0. 0.]\n",
      " [1. 0. 0. 0. 0. 0. 0. 0. 0. 0.]]\n",
      "------\n",
      "params:\n",
      "[-0.48239684  0.19713111 -0.95403395  1.66281964  1.76182336 -0.65260536\n",
      "  1.20812828 -0.94520649  0.29520298 -0.76204314  0.81679841 -0.84571705\n",
      "  0.70874306 -1.02227925 -2.0932406   1.45851857  1.55129189 -0.68723098\n",
      "  0.37164892 -0.10277172  0.26681231  0.60875238 -0.64857305 -1.6102125\n",
      " -1.32446927 -0.50313958  0.51171733  2.24777306  2.42024273  1.30787085\n",
      "  1.39485229 -0.78420057 -0.28836518 -0.67272057  0.32222798  1.11116527\n",
      " -1.89874942 -1.23389638  0.51706922 -0.10112488 -0.07041872 -0.63663037\n",
      "  0.85468309 -1.46661115  1.25722051 -0.72941352 -0.66237167  1.43851231\n",
      " -1.40844992  1.38343081  0.63654167 -0.65499757 -0.15136051 -0.64185951\n",
      " -0.56228427  1.27433948 -1.08877422 -0.05034671 -1.02731315  0.45104589\n",
      " -1.51360349  1.89938515 -0.04667128 -1.23341488  0.67511733  2.02327157\n",
      " -1.03240147 -0.13132137 -1.10351148  0.74277523 -0.26084899  0.50491343\n",
      "  0.26863831  0.95496201  1.95819416  0.45666861  0.23145979 -0.64873325\n",
      " -1.67649266 -0.86134917  0.69997493  1.31628411  0.8024197  -3.35287542\n",
      " -0.28498242 -1.58129286 -1.98727358 -0.25314994 -0.96905669 -0.74631207\n",
      " -0.05097563 -1.74000156 -0.92237216  0.77403806  0.61795971  1.14158962\n",
      "  0.07426322 -1.15192005 -1.5558654   2.54485153  1.65140852  0.56284752\n",
      "  2.41594898  1.39470974  0.60357358 -0.86209112  0.14237704 -0.20209656\n",
      " -0.64924257  1.65912025  0.26595106 -0.98719819  1.18115987 -1.00281933\n",
      " -0.69063057]\n"
     ]
    },
    {
     "ename": "NameError",
     "evalue": "name 'Dx' is not defined",
     "output_type": "error",
     "traceback": [
      "\u001b[0;31m---------------------------------------------------------------------------\u001b[0m",
      "\u001b[0;31mNameError\u001b[0m                                 Traceback (most recent call last)",
      "\u001b[0;32m<ipython-input-6-6695ac810b49>\u001b[0m in \u001b[0;36m<module>\u001b[0;34m()\u001b[0m\n\u001b[1;32m     19\u001b[0m \u001b[0;31m#neruals implement\u001b[0m\u001b[0;34m\u001b[0m\u001b[0;34m\u001b[0m\u001b[0m\n\u001b[1;32m     20\u001b[0m \u001b[0mofs\u001b[0m \u001b[0;34m=\u001b[0m \u001b[0;36m0\u001b[0m\u001b[0;34m\u001b[0m\u001b[0m\n\u001b[0;32m---> 21\u001b[0;31m \u001b[0mW1\u001b[0m\u001b[0;34m=\u001b[0m \u001b[0mnp\u001b[0m\u001b[0;34m.\u001b[0m\u001b[0mreshape\u001b[0m\u001b[0;34m(\u001b[0m\u001b[0mparams\u001b[0m\u001b[0;34m[\u001b[0m\u001b[0mofs\u001b[0m\u001b[0;34m:\u001b[0m\u001b[0mofs\u001b[0m\u001b[0;34m+\u001b[0m \u001b[0mDx\u001b[0m \u001b[0;34m*\u001b[0m \u001b[0mH\u001b[0m\u001b[0;34m]\u001b[0m\u001b[0;34m,\u001b[0m \u001b[0;34m(\u001b[0m\u001b[0mDx\u001b[0m\u001b[0;34m,\u001b[0m \u001b[0mH\u001b[0m\u001b[0;34m)\u001b[0m\u001b[0;34m)\u001b[0m\u001b[0;34m\u001b[0m\u001b[0m\n\u001b[0m\u001b[1;32m     22\u001b[0m \u001b[0mofs\u001b[0m \u001b[0;34m+=\u001b[0m \u001b[0mDx\u001b[0m \u001b[0;34m*\u001b[0m \u001b[0mH\u001b[0m\u001b[0;34m\u001b[0m\u001b[0m\n\u001b[1;32m     23\u001b[0m \u001b[0mb1\u001b[0m \u001b[0;34m=\u001b[0m \u001b[0mnp\u001b[0m\u001b[0;34m.\u001b[0m\u001b[0mreshape\u001b[0m\u001b[0;34m(\u001b[0m\u001b[0mparams\u001b[0m\u001b[0;34m[\u001b[0m\u001b[0mofs\u001b[0m\u001b[0;34m:\u001b[0m\u001b[0mofs\u001b[0m \u001b[0;34m+\u001b[0m \u001b[0mH\u001b[0m\u001b[0;34m]\u001b[0m\u001b[0;34m,\u001b[0m \u001b[0;34m(\u001b[0m\u001b[0;36m1\u001b[0m\u001b[0;34m,\u001b[0m \u001b[0mH\u001b[0m\u001b[0;34m)\u001b[0m\u001b[0;34m)\u001b[0m\u001b[0;34m\u001b[0m\u001b[0m\n",
      "\u001b[0;31mNameError\u001b[0m: name 'Dx' is not defined"
     ]
    }
   ],
   "source": [
    "N = 20\n",
    "dimensions = [10, 5, 10]\n",
    "data = np.random.randn(N, dimensions[0])   # each row will be a datum\n",
    "labels = np.zeros((N, dimensions[2]))\n",
    "for i in range(N):\n",
    "    labels[i, np.random.randint(0,dimensions[2]-1)] = 1\n",
    "\n",
    "params = np.random.randn((dimensions[0] + 1) * dimensions[1] + (\n",
    "    dimensions[1] + 1) * dimensions[2], )\n",
    "print('data:')\n",
    "print(data)\n",
    "print('------')\n",
    "print('label:')\n",
    "print(labels)\n",
    "print('------')\n",
    "print('params:')\n",
    "print(params)\n",
    "\n",
    "#neruals implement\n",
    "ofs = 0\n",
    "W1= np.reshape(params[ofs:ofs+ Dx * H], (Dx, H))\n",
    "ofs += Dx * H\n",
    "b1 = np.reshape(params[ofs:ofs + H], (1, H))\n",
    "ofs += H\n",
    "W2 = np.reshape(params[ofs:ofs + H * Dy], (H, Dy))\n",
    "ofs += H * Dy\n",
    "b2 = np.reshape(params[ofs:ofs + Dy], (1, Dy))\n",
    "print('w1:')\n",
    "print(W1)\n",
    "print('------')\n",
    "print('w2:')\n",
    "print(W2)"
   ]
  },
  {
   "cell_type": "code",
   "execution_count": 8,
   "metadata": {},
   "outputs": [
    {
     "name": "stderr",
     "output_type": "stream",
     "text": [
      "/anaconda3/lib/python3.6/site-packages/ipykernel_launcher.py:1: RuntimeWarning: divide by zero encountered in log\n",
      "  \"\"\"Entry point for launching an IPython kernel.\n"
     ]
    },
    {
     "data": {
      "text/plain": [
       "array([[-inf, -inf, -inf, -inf,   0., -inf, -inf, -inf, -inf, -inf],\n",
       "       [  0., -inf, -inf, -inf, -inf, -inf, -inf, -inf, -inf, -inf],\n",
       "       [-inf, -inf, -inf, -inf, -inf, -inf, -inf, -inf,   0., -inf],\n",
       "       [-inf, -inf, -inf,   0., -inf, -inf, -inf, -inf, -inf, -inf],\n",
       "       [-inf, -inf, -inf, -inf, -inf,   0., -inf, -inf, -inf, -inf],\n",
       "       [-inf, -inf, -inf,   0., -inf, -inf, -inf, -inf, -inf, -inf],\n",
       "       [-inf, -inf, -inf, -inf, -inf, -inf, -inf, -inf,   0., -inf],\n",
       "       [-inf,   0., -inf, -inf, -inf, -inf, -inf, -inf, -inf, -inf],\n",
       "       [-inf, -inf, -inf, -inf, -inf, -inf, -inf,   0., -inf, -inf],\n",
       "       [-inf, -inf, -inf, -inf,   0., -inf, -inf, -inf, -inf, -inf],\n",
       "       [-inf, -inf, -inf, -inf, -inf, -inf, -inf,   0., -inf, -inf],\n",
       "       [-inf, -inf,   0., -inf, -inf, -inf, -inf, -inf, -inf, -inf],\n",
       "       [  0., -inf, -inf, -inf, -inf, -inf, -inf, -inf, -inf, -inf],\n",
       "       [-inf, -inf, -inf, -inf, -inf, -inf, -inf,   0., -inf, -inf],\n",
       "       [-inf, -inf, -inf, -inf,   0., -inf, -inf, -inf, -inf, -inf],\n",
       "       [-inf, -inf, -inf, -inf, -inf, -inf, -inf, -inf,   0., -inf],\n",
       "       [-inf, -inf, -inf, -inf, -inf, -inf,   0., -inf, -inf, -inf],\n",
       "       [  0., -inf, -inf, -inf, -inf, -inf, -inf, -inf, -inf, -inf],\n",
       "       [-inf, -inf, -inf, -inf,   0., -inf, -inf, -inf, -inf, -inf],\n",
       "       [  0., -inf, -inf, -inf, -inf, -inf, -inf, -inf, -inf, -inf]])"
      ]
     },
     "execution_count": 8,
     "metadata": {},
     "output_type": "execute_result"
    }
   ],
   "source": [
    "np.log(labels)"
   ]
  },
  {
   "cell_type": "code",
   "execution_count": 11,
   "metadata": {},
   "outputs": [
    {
     "data": {
      "text/plain": [
       "2"
      ]
     },
     "execution_count": 11,
     "metadata": {},
     "output_type": "execute_result"
    }
   ],
   "source": [
    "len(data.shape)"
   ]
  },
  {
   "cell_type": "code",
   "execution_count": 12,
   "metadata": {},
   "outputs": [
    {
     "ename": "NameError",
     "evalue": "name 'f' is not defined",
     "output_type": "error",
     "traceback": [
      "\u001b[0;31m---------------------------------------------------------------------------\u001b[0m",
      "\u001b[0;31mNameError\u001b[0m                                 Traceback (most recent call last)",
      "\u001b[0;32m<ipython-input-12-bc4a60ea93c3>\u001b[0m in \u001b[0;36m<module>\u001b[0;34m()\u001b[0m\n\u001b[0;32m----> 1\u001b[0;31m \u001b[0mfx\u001b[0m\u001b[0;34m,\u001b[0m \u001b[0mgrad\u001b[0m \u001b[0;34m=\u001b[0m \u001b[0mf\u001b[0m\u001b[0;34m(\u001b[0m\u001b[0mx\u001b[0m\u001b[0;34m)\u001b[0m\u001b[0;34m\u001b[0m\u001b[0m\n\u001b[0m",
      "\u001b[0;31mNameError\u001b[0m: name 'f' is not defined"
     ]
    }
   ],
   "source": [
    "fx, grad = f(x)"
   ]
  },
  {
   "cell_type": "code",
   "execution_count": null,
   "metadata": {},
   "outputs": [],
   "source": [
    "labels[labels]"
   ]
  }
 ],
 "metadata": {
  "kernelspec": {
   "display_name": "Python 3",
   "language": "python",
   "name": "python3"
  },
  "language_info": {
   "codemirror_mode": {
    "name": "ipython",
    "version": 3
   },
   "file_extension": ".py",
   "mimetype": "text/x-python",
   "name": "python",
   "nbconvert_exporter": "python",
   "pygments_lexer": "ipython3",
   "version": "3.6.5"
  }
 },
 "nbformat": 4,
 "nbformat_minor": 2
}
