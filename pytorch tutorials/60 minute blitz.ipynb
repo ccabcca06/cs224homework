{
 "cells": [
  {
   "cell_type": "markdown",
   "metadata": {},
   "source": [
    "# pytorch 60分钟快速入门"
   ]
  },
  {
   "cell_type": "markdown",
   "metadata": {},
   "source": [
    "来自官网的pytorch 60分钟快速入门\n",
    "教程目的：\n",
    "完成教程后能够掌握pytorch的Tensor library以及其在神经网络中的应用\n",
    "训练一个小型的图像分类神经网络\n",
    "\n",
    "*本教程要求学习者对numpy有所了解"
   ]
  }
 ],
 "metadata": {
  "kernelspec": {
   "display_name": "Python 3",
   "language": "python",
   "name": "python3"
  },
  "language_info": {
   "codemirror_mode": {
    "name": "ipython",
    "version": 3
   },
   "file_extension": ".py",
   "mimetype": "text/x-python",
   "name": "python",
   "nbconvert_exporter": "python",
   "pygments_lexer": "ipython3",
   "version": "3.6.5"
  }
 },
 "nbformat": 4,
 "nbformat_minor": 2
}
